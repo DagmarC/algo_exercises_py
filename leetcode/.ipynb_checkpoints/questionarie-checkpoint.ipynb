{
 "cells": [
  {
   "cell_type": "markdown",
   "id": "6d8e66d9-bfa4-474f-a507-7e40f5b32b71",
   "metadata": {},
   "source": [
    "# <b>Questionnaire</b>"
   ]
  },
  {
   "cell_type": "markdown",
   "id": "a6c82ecc-ef17-4630-af54-4b9ea2053ac8",
   "metadata": {},
   "source": [
    "1. Provide an example of where the bear classification model might work poorly in production, due to structural or style differences in the training data."
   ]
  },
  {
   "cell_type": "markdown",
   "id": "7ff36368-16fc-4aa7-9c23-bb9929d897c2",
   "metadata": {},
   "source": [
    "> Deep learning algorithms are generally not good at recognizing images that are significantly different in structure or style to those used to train the model. For instance, if there were no black-and-white images in the training data, the model may do poorly on black-and-white images. Similarly, if the training data did not contain hand-drawn images, then the model will probably do poorly on hand-drawn images.\n",
    "> * Bear is not the only thing in the picture and it is not the main one or too small.\n",
    "> * Obstacle over the bear.\n",
    "> * Bear is in the night.\n",
    "> * The bear training dataset is highly biased towards one type of features."
   ]
  },
  {
   "cell_type": "markdown",
   "id": "f5e7696e-2959-4023-a123-0cd61a0c8b8b",
   "metadata": {},
   "source": [
    "2. Where do text models currently have a major deficiency?\n"
   ]
  },
  {
   "cell_type": "markdown",
   "id": "4ae1fb06-a76e-4ba8-b0aa-06ed0d6e2b03",
   "metadata": {},
   "source": [
    "> * Computers are very good at classifying both short and long documents based on categories such as spam or not spam, sentiment (e.g., is the review positive or negative), author, source website, and so forth. It's good at making this content compelling to humans too. </br>\n",
    "> * Deep learning is currently not good at generating correct responses! "
   ]
  },
  {
   "cell_type": "markdown",
   "id": "e1bbeb3f-2d50-46c8-9735-401f1b93319e",
   "metadata": {},
   "source": [
    "3. What are possible negative societal implications of text generation models?"
   ]
  },
  {
   "cell_type": "markdown",
   "id": "8502c685-5d5f-428c-a001-d02f9a7fb898",
   "metadata": {},
   "source": [
    "> Misinformations and halucianations can cause problems, when people will believe it and spread it."
   ]
  },
  {
   "cell_type": "markdown",
   "id": "38a562d4-2e2f-441f-abc5-184370bba0dd",
   "metadata": {},
   "source": [
    "4. In situations where a model might make mistakes, and those mistakes could be harmful, what is a good alternative to automating a process?"
   ]
  },
  {
   "cell_type": "markdown",
   "id": "5faf3995-c1fa-47d8-9d60-562c7d1b0456",
   "metadata": {},
   "source": [
    "> Experts in the field will evaluate the results and determine what is the best next step. For medical diangnosis it is usually the way. Radiologist can get alarms when machine learning model spots something dangerous and they can prioritize these CT scans over those who were good.a"
   ]
  },
  {
   "cell_type": "markdown",
   "id": "b03d65c1-8c96-4a17-900c-40ea64f43f1d",
   "metadata": {},
   "source": [
    "5. What kind of tabular data is deep learning particularly good at?\n"
   ]
  },
  {
   "cell_type": "markdown",
   "id": "cfbb215e-0627-4b8a-9a30-2ccf61413475",
   "metadata": {},
   "source": [
    "> Deep learning does greatly increase the variety of columns that you can include—for example, columns containing natural language (book titles, reviews, etc.), and high-cardinality categorical columns (i.e., something that contains a large number of discrete choices, such as zip code or product ID). "
   ]
  },
  {
   "cell_type": "markdown",
   "id": "3eb3f708-fad4-46e8-a347-f0b66b27aceb",
   "metadata": {},
   "source": [
    "6. What's a key downside of directly using a deep learning model for recommendation systems?"
   ]
  },
  {
   "cell_type": "markdown",
   "id": "c0de2de1-193f-48f9-8986-a29c0a9c8cd3",
   "metadata": {},
   "source": [
    "> It can recommend you the things you have already seen or you would like to see anyway, so it will not recommend you something new and helpful to you.\n"
   ]
  },
  {
   "cell_type": "markdown",
   "id": "724a6986-ce2b-4383-b077-37d50398c03b",
   "metadata": {},
   "source": [
    "7. What are the steps of the Drivetrain approach?"
   ]
  },
  {
   "attachments": {},
   "cell_type": "markdown",
   "id": "a0c1c2e9-2307-4501-97bd-f4269070e8d6",
   "metadata": {},
   "source": [
    "> The basic idea is to start with considering your objective, then think about what actions you can take to meet that objective and what data you have (or can acquire) that can help, and then build a model that you can use to determine the best actions to take to get the best results in terms of your objective.\n"
   ]
  },
  {
   "cell_type": "markdown",
   "id": "9c8ee22a-2808-4344-a0cf-fcc82f1e994c",
   "metadata": {},
   "source": [
    "> ![Alt text](blog/drivetrain-approach.png)"
   ]
  },
  {
   "cell_type": "markdown",
   "id": "f134dba5-dc1d-493c-8c70-ab6d48a7b0aa",
   "metadata": {},
   "source": [
    "8. How do the steps of the Drivetrain Approach map to a recommendation system?"
   ]
  },
  {
   "cell_type": "markdown",
   "id": "339c4c80-f24d-428f-8c87-a64c252148e8",
   "metadata": {},
   "source": [
    "> * The objective of a recommendation engine is to drive additional sales by surprising and delighting the customer with recommendations of items they would not have purchased without the recommendation.\n",
    "> * The lever is the ranking of the recommendations.\n",
    "> * New data must be collected to generate recommendations that will cause new sales. (require conducting many randomized experiments in order to collect data )\n",
    "> * Build two models for purchase probabilities, conditional on seeing or not seeing a recommendation"
   ]
  },
  {
   "cell_type": "markdown",
   "id": "89323884-4ecf-48cb-94fa-aa0f04355c1a",
   "metadata": {},
   "source": [
    "9. Create an image recognition model using data you curate, and deploy it on the web."
   ]
  },
  {
   "cell_type": "markdown",
   "id": "0086de18-5069-4bcf-8237-217c89e9395b",
   "metadata": {},
   "source": [
    "> https://huggingface.co/spaces/DagmarC/lesson2"
   ]
  },
  {
   "cell_type": "markdown",
   "id": "493e038b-1200-4413-8392-a08fb91b6744",
   "metadata": {},
   "source": [
    "10. What is DataLoaders?"
   ]
  },
  {
   "cell_type": "markdown",
   "id": "9b400f22-4e17-4aae-bb28-854449242408",
   "metadata": {},
   "source": [
    "> DataLoaders is a thin class that just stores whatever DataLoader objects you pass to it, and makes them available as train and valid.\n",
    "> It is a high-level abstraction that handles the process of loading and managing datasets for training machine learning models."
   ]
  },
  {
   "cell_type": "code",
   "execution_count": null,
   "id": "d9f990ef-ba32-41fd-b487-1022ac7e82c8",
   "metadata": {},
   "outputs": [],
   "source": [
    "class DataLoaders(GetAttr):\n",
    "    def __init__(self, *loaders): self.loaders = loaders\n",
    "    def __getitem__(self, i): return self.loaders[i]\n",
    "    train,valid = add_props(lambda i,self: self[i])"
   ]
  },
  {
   "cell_type": "markdown",
   "id": "c1907175-13b0-4f78-82b3-6b54a1f09659",
   "metadata": {},
   "source": [
    "> * Data Handling: Efficiently loads data from datasets and provides it to the model in batches.\n",
    "> * Data Augmentation: Supports data augmentation techniques that can be applied to the training data on-the-fly.\n",
    "> * Transforms: Allows for easy application of transformations to data, such as normalization, cropping, resizing, etc.\n",
    "> * Batching: Handles the creation of batches from the dataset, which helps in optimizing the training process.\n",
    "> * Shuffling: Supports shuffling of data to ensure that the model does not learn the order of the training data.\n",
    "> * Parallel Loading: Uses multiple processes to load data in parallel, reducing the time required to fetch data during training."
   ]
  },
  {
   "cell_type": "markdown",
   "id": "8f341a8a-c21f-4aa5-83e5-c1861df3d0d9",
   "metadata": {},
   "source": [
    "11. What four things do we need to tell fastai to create DataLoaders?"
   ]
  },
  {
   "cell_type": "markdown",
   "id": "dbc27d3b-42b3-4bf6-888c-a03c2b0bfdd1",
   "metadata": {},
   "source": [
    "> 1. What kinds of data we are working with\n",
    "> 2. How to get the list of items\n",
    "> 3. How to label these items\n",
    "> 4. How to create the validation set"
   ]
  },
  {
   "cell_type": "code",
   "execution_count": null,
   "id": "10c250b0-4266-42ef-81dc-9182fe4b1a0a",
   "metadata": {},
   "outputs": [],
   "source": [
    "trees = DataBlock(\n",
    "    blocks=(ImageBlock, CategoryBlock), \n",
    "    get_items=get_image_files, \n",
    "    splitter=RandomSplitter(valid_pct=0.2, seed=42),\n",
    "    get_y=parent_label,\n",
    "    item_tfms=Resize(128))"
   ]
  },
  {
   "cell_type": "markdown",
   "id": "a0469c17-6bcf-4ff5-9f50-90e15cbb0354",
   "metadata": {},
   "source": [
    "12. What does the splitter parameter to DataBlock do?"
   ]
  },
  {
   "cell_type": "markdown",
   "id": "46fe9147-00f7-46f0-944e-693fe4850555",
   "metadata": {},
   "source": [
    "> Splitter parameter splits the training and the validation set 'randomly'."
   ]
  },
  {
   "cell_type": "markdown",
   "id": "267b1d14-9ed8-4f72-9c60-5a42e8ee496c",
   "metadata": {},
   "source": [
    "13. How do we ensure a random split always gives the same validation set?\n"
   ]
  },
  {
   "cell_type": "markdown",
   "id": "96462785-2df4-4bce-a638-5ce22f9f8574",
   "metadata": {},
   "source": [
    "> The same training/validation split each time we run this notebook, so we <b>fix the random seed</b> (computers don't really know how to create random numbers at all, but simply create lists of numbers that look random; if you provide the same starting point for that list each time—called the seed—then you will get the exact same list each time)"
   ]
  },
  {
   "cell_type": "markdown",
   "id": "1af5e75f-5757-423b-9d6e-4529ee8079ff",
   "metadata": {},
   "source": [
    "14. What letters are often used to signify the independent and dependent variables?"
   ]
  },
  {
   "cell_type": "markdown",
   "id": "ad5adb40-20af-497b-8d20-8d89b7158dca",
   "metadata": {},
   "source": [
    ">  x is independent. y is dependent.\n",
    ">\n",
    "> The independent variable is the thing we are using to make predictions from, and the dependent variable is our target.\n",
    "> \n",
    "> e.g. Independent: images, Dependent: Categories"
   ]
  },
  {
   "cell_type": "markdown",
   "id": "0678755f-a41f-4fd1-bb72-aa298f65e84c",
   "metadata": {},
   "source": [
    "15. What’s the difference between crop, pad, and squish Resize() approaches? When might you choose one over the other?\n"
   ]
  },
  {
   "attachments": {},
   "cell_type": "markdown",
   "id": "86c3e9ce-3a49-42da-9ddc-88e13c5c32dc",
   "metadata": {},
   "source": [
    "> * crop is the default Resize() method, and it crops the images to fit a square shape of the size requested, using the full width or height. This can result in losing some important details. For instance, if we were trying to recognize the breed of dog or cat, we may end up cropping out a key part of the body or the face necessary to distinguish between similar breeds.\n",
    "> * pad is an alternative Resize() method, which pads the matrix of the image’s pixels with zeros (which shows as black when viewing the images). If we pad the images then we have a whole lot of empty space, which is just wasted computation for our model, and results in a lower effective resolution for the part of the image we actually use.\n",
    "> * squish is another alternative Resize() method, which can either squish or stretch the image. This can cause the image to take on an unrealistic shape, leading to a model that learns that things look different to how they actually are, which we would expect to result in lower accuracy.\n",
    "> \n",
    "> * Another better method is RandomResizedCrop, in which we crop on a randomly selected region of the image. So every epoch, the model will see a different part of the image and will learn accordingly."
   ]
  },
  {
   "cell_type": "markdown",
   "id": "e25407cc-cc19-4eb7-b97f-8d9c2b0a5db0",
   "metadata": {},
   "source": [
    "16. What is data augmentation? Why is it needed?"
   ]
  },
  {
   "cell_type": "markdown",
   "id": "29713813-e35e-4ae4-8639-7d78b493f642",
   "metadata": {},
   "source": [
    "> Creates variations of the input data, so they appear differrent but the meaning states the same.\n",
    "> \n",
    "> Image data augmentation: rotations, flippingm perspective warping, brigtness and contrast changes.\n",
    "> \n",
    "> aug_transforms func in fastai\n",
    "> \n",
    "> When imgs are of the same size, we can apply these transforms to the entire batch using the GPU (saves a lot of time)\n",
    "> \n",
    "> To tell fastai we want to use these transforms on a batch, we use the batch_tfms."
   ]
  },
  {
   "cell_type": "markdown",
   "id": "0d1ecd20-dac3-4ddd-b0e6-5da03d4702b2",
   "metadata": {},
   "source": [
    "17. What is the difference between item_tfms and batch_tfms?"
   ]
  },
  {
   "cell_type": "code",
   "execution_count": null,
   "id": "9e940ba2-c0b9-48e4-8ac8-073e41dbcd30",
   "metadata": {},
   "outputs": [],
   "source": [
    "bears = bears.new(item_tfms=Resize(128), batch_tfms=aug_transforms(mult=2))\n",
    "dls = bears.dataloaders(path)\n",
    "dls.train.show_batch(max_n=8, nrows=2, unique=True)"
   ]
  },
  {
   "cell_type": "markdown",
   "id": "fdeb555d-538b-44c0-b9aa-8868cc30fddf",
   "metadata": {},
   "source": [
    "> * <b>item_tfms</b> are transformations applied to a single data sample x on the CPU. Resize() is a common transform because the mini-batch of input images to a cnn must have the same dimensions. Assuming the images are RGB with 3 channels, then Resize() as item_tfms will make sure the images have the same width and height.\n",
    "\n",
    "> * <b>batch_tfms</b> are applied to batched data samples (aka individual samples that have been collated into a mini-batch) on the GPU. They are faster and more efficient than item_tfms. A good example of these are the ones provided by aug_transforms(). Inside are several batch-level augmentations that help many models."
   ]
  },
  {
   "cell_type": "markdown",
   "id": "8a85f1d3-4447-4021-af35-413382cdd8af",
   "metadata": {},
   "source": [
    "18. What is a confusion matrix?"
   ]
  },
  {
   "attachments": {
    "c61f02e4-c1f1-4282-bdba-4c6904a35148.png": {
     "image/png": "[encoded data removed]"
    }
   },
   "cell_type": "markdown",
   "id": "ed0f7719-91d5-478e-b0ce-235b1c530f12",
   "metadata": {},
   "source": [
    "![image.png](attachment:c61f02e4-c1f1-4282-bdba-4c6904a35148.png)"
   ]
  },
  {
   "cell_type": "markdown",
   "id": "166b8536-d92b-4511-bdee-8136621a7f5c",
   "metadata": {},
   "source": [
    "> It is the structure that visualize the predictions made vs the correct labels. It can help us to understand the what the model has problem.\n",
    "> * Rows represents dataset input - actual labels.\n",
    "> * Columns represent what the model predicted - predictions.\n",
    "> * Diagonal - correct answers model predicted.\n",
    "> * Elswhere - incorrect."
   ]
  },
  {
   "cell_type": "code",
   "execution_count": null,
   "id": "3b7a1f57-62c1-4dd1-b61f-1e0eed3199b2",
   "metadata": {},
   "outputs": [],
   "source": [
    "interp = ClassificationInterpretation.from_learner(learn)\n",
    "interp.plot_confusion_matrix()"
   ]
  },
  {
   "cell_type": "markdown",
   "id": "5866ce3f-feb9-4394-9d45-5fc132d250d2",
   "metadata": {},
   "source": [
    "19. What does export save do?"
   ]
  },
  {
   "cell_type": "markdown",
   "id": "01523bf7-6b57-49b6-afdc-11bc1db1beef",
   "metadata": {},
   "source": [
    "> saves the model - architecture together with the trained parameters of the neural network into the *.pkl format. It also saves how the Dataloaders is defined."
   ]
  },
  {
   "cell_type": "markdown",
   "id": "e4bbaf80-fc26-4110-938c-482a9cdd8583",
   "metadata": {},
   "source": [
    "20. What is it called when we use a model for getting predictions, instead of training?"
   ]
  },
  {
   "cell_type": "markdown",
   "id": "4db7352b-cf80-461b-8bf0-d05bc6c02881",
   "metadata": {},
   "source": [
    "> Inference"
   ]
  },
  {
   "cell_type": "markdown",
   "id": "dca57b89-3338-4936-9261-45e6bb2335f7",
   "metadata": {},
   "source": [
    "21. What are IPython widgets?\n"
   ]
  },
  {
   "cell_type": "markdown",
   "id": "0ac521e9-86a7-4b9a-b6b6-41d8088ebf91",
   "metadata": {},
   "source": [
    "> IPython widgets are GUI components that bring together JavaScript and Python functionality in a web browser, and can be created and used within a Jupyter notebook. For instance, the image cleaner that we saw earlier in this chapter is entirely written with IPython widgets. However, we don't want to require users of our application to run Jupyter themselves."
   ]
  },
  {
   "cell_type": "markdown",
   "id": "5c7f8f88-49bb-412f-bb05-c0d2aad03c1e",
   "metadata": {},
   "source": [
    "22. When might you want to use CPU for deployment? When might GPU be better?"
   ]
  },
  {
   "cell_type": "markdown",
   "id": "93eb5b07-3e2b-4e73-9fc8-eeeeb013b933",
   "metadata": {},
   "source": [
    "> GPUs are best for doing <b>identical work in parallel</b>. If you will be analyzing single pieces of data at a time (like a single image or single sentence), then CPUs may be more cost effective instead, especially with more market competition for CPU servers versus GPU servers. GPUs could be used if you collect user responses into a batch at a time, and perform inference on the batch. This may require the user to wait for model predictions. Additionally, there are many other complexities when it comes to GPU inference, like memory management and queuing of the batches.\n"
   ]
  },
  {
   "cell_type": "markdown",
   "id": "71665a4d-9300-483d-b27d-25e5368ba5cb",
   "metadata": {},
   "source": [
    "23. What are the downsides of deploying your app to a server, instead of to a client (or edge) device such as a phone or PC?"
   ]
  },
  {
   "cell_type": "markdown",
   "id": "9722c129-c552-43aa-a2ed-a5f5e9796822",
   "metadata": {},
   "source": [
    "> Your data are exposed to the internet.\n",
    "> \n",
    "> Data privacy and integrity.\n",
    "> \n",
    "> Network connection needed.\n",
    "> \n",
    "> Higher latency of actions."
   ]
  },
  {
   "cell_type": "markdown",
   "id": "4da38462-62bd-4fea-b6d1-1d27af0d9e55",
   "metadata": {},
   "source": [
    "24. What are 3 examples of problems that could occur when rolling out a bear warning system in practice?"
   ]
  },
  {
   "cell_type": "markdown",
   "id": "c3b9c8a7-1b81-4ab4-bb37-1f3415260af4",
   "metadata": {},
   "source": [
    "> It can send the police to the places where the probability is higher, it wil really check the bear was there and after some time it will forget on some other nonfrequent places, model will be biased towards those where the probability is higer.\n",
    "> \n",
    "> It can hnadle night-time images badly.\n",
    "> \n",
    "> Prediction is too slow."
   ]
  },
  {
   "cell_type": "markdown",
   "id": "7b2aab27-6486-40e7-a4ec-553dd8d45c07",
   "metadata": {},
   "source": [
    "What is “out of domain data”?"
   ]
  },
  {
   "cell_type": "markdown",
   "id": "e7622d82-9053-4fcd-af43-44dd9cb04494",
   "metadata": {},
   "source": [
    "> Data that is fundamentally different in some aspect compared to the model’s training data. For example, an object detector that was trained exclusively with outside daytime photos is given a photo taken at night."
   ]
  },
  {
   "cell_type": "markdown",
   "id": "ba755d9e-094a-4f5a-84bb-1b54ec712e98",
   "metadata": {},
   "source": [
    "What is “domain shift”?"
   ]
  },
  {
   "cell_type": "markdown",
   "id": "daa636a6-88d9-410a-aec2-219a95e777ad",
   "metadata": {},
   "source": [
    "> This is when the type of <b>data changes gradually over time</b>. For example, an insurance company is using a deep learning model as part of their pricing algorithm, but over time their customers will be different, with the original training data not being representative of current data, and the deep learning model being applied on effectively out-of-domain data."
   ]
  },
  {
   "cell_type": "markdown",
   "id": "f76bd411-7ff1-476d-b64d-c30ec72d1e37",
   "metadata": {},
   "source": [
    "What are the 3 steps in the deployment process?\n"
   ]
  },
  {
   "cell_type": "markdown",
   "id": "84441838-cab2-40e8-bb52-8d960703626e",
   "metadata": {},
   "source": [
    "> ### * Step 1: Export the Trained Model\n",
    "> ** Save the trained model using learn.export('model.pkl')."
   ]
  },
  {
   "cell_type": "code",
   "execution_count": null,
   "id": "4646028b-f0b0-4811-8bf6-182775f149df",
   "metadata": {},
   "outputs": [],
   "source": [
    "# Train your model\n",
    "learn = cnn_learner(dls, resnet34, metrics=error_rate)\n",
    "learn.fine_tune(1)\n",
    "\n",
    "# Export the model\n",
    "learn.export('model.pkl')"
   ]
  },
  {
   "cell_type": "markdown",
   "id": "d89dbcf0-24d7-43e6-991b-ec10bb0abd0b",
   "metadata": {},
   "source": [
    "> ### * Step 2: Set Up the Deployment Environment\n",
    "> Create an application using a framework like FastAPI, Gradio that loads the model and handles prediction requests.\n",
    "\n",
    "> For example: create space on Gradio, have git installed, create app.py, download model.pkl and place it, where your app.py refers to it\n"
   ]
  },
  {
   "cell_type": "markdown",
   "id": "684a76b1-19ca-436b-bd88-efb4d64f2dc3",
   "metadata": {},
   "source": [
    "> ### * Step 3: Build the app ready for deployment\n",
    "> Deploy the application to a server or cloud platform and make it accessible for inference requests.\n",
    "\n",
    "> In gradio, when you push your work app.py, the build process starts automatically.\n"
   ]
  },
  {
   "cell_type": "markdown",
   "id": "28dde958-8807-4a11-89d0-17fe6ed19900",
   "metadata": {},
   "source": [
    "28. For a project you’re interested in applying deep learning to, consider the thought experiment “what would happen if it went really, really well?”"
   ]
  },
  {
   "cell_type": "markdown",
   "id": "78dc253e-26a4-4bf1-a134-55cddea82f30",
   "metadata": {},
   "source": [
    "> To be done by reader."
   ]
  }
 ],
 "metadata": {
  "kernelspec": {
   "display_name": "Python 3 (ipykernel)",
   "language": "python",
   "name": "python3"
  },
  "language_info": {
   "codemirror_mode": {
    "name": "ipython",
    "version": 3
   },
   "file_extension": ".py",
   "mimetype": "text/x-python",
   "name": "python",
   "nbconvert_exporter": "python",
   "pygments_lexer": "ipython3",
   "version": "3.12.2"
  }
 },
 "nbformat": 4,
 "nbformat_minor": 5
}
