{
 "cells": [
  {
   "cell_type": "code",
   "execution_count": 50,
   "id": "dfd5adfc-e45b-432f-9c3c-6ecead8d9e3d",
   "metadata": {},
   "outputs": [
    {
     "name": "stdout",
     "output_type": "stream",
     "text": [
      "d1  4\n",
      "d2  4.0002\n",
      "d2-d1 0.00020000000000042206 0.0001\n",
      "slope  2.0000000000042206\n"
     ]
    }
   ],
   "source": [
    "h = 0.0001\n",
    "\n",
    "a = 2\n",
    "b = -3\n",
    "c = 10\n",
    "\n",
    "d1 = a*b + c\n",
    "b += h\n",
    "d2 = a*b + c\n",
    "\n",
    "print (\"d1 \", d1)\n",
    "print (\"d2 \", d2)\n",
    "print(\"d2-d1\",  d2-d1, h)\n",
    "print (\"slope \", (d2-d1)/h)"
   ]
  },
  {
   "cell_type": "markdown",
   "id": "57a53a79-4a05-43d0-adaa-0a3e95b0d5a9",
   "metadata": {},
   "source": [
    "### Graphviz introduction\n",
    "https://h1ros.github.io/posts/introduction-to-graphviz-in-jupyter-notebook/\n",
    "\n",
    "https://github.com/xflr6/graphviz/blob/master/examples/graphviz-jupyter-format.ipynb"
   ]
  },
  {
   "cell_type": "code",
   "execution_count": 51,
   "id": "a9d126f7-94c9-4939-850d-b445ecd344c7",
   "metadata": {},
   "outputs": [
    {
     "name": "stdout",
     "output_type": "stream",
     "text": [
      "Retrieving notices: ...working... done\n",
      "Channels:\n",
      " - defaults\n",
      " - conda-forge\n",
      " - fastchan\n",
      " - fastai\n",
      " - pytorch\n",
      "Platform: osx-arm64\n",
      "Collecting package metadata (repodata.json): done\n",
      "Solving environment: done\n",
      "\n",
      "# All requested packages already installed.\n",
      "\n",
      "Channels:\n",
      " - defaults\n",
      " - conda-forge\n",
      " - fastchan\n",
      " - pytorch\n",
      "Platform: osx-arm64\n",
      "Collecting package metadata (repodata.json): done\n",
      "Solving environment: done\n",
      "\n",
      "# All requested packages already installed.\n",
      "\n"
     ]
    }
   ],
   "source": [
    "!conda install -y python-graphviz\n",
    "!conda install -y graphviz\n"
   ]
  },
  {
   "cell_type": "code",
   "execution_count": 52,
   "id": "6359c506-3162-479c-b97e-52071dd4eed7",
   "metadata": {},
   "outputs": [
    {
     "data": {
      "text/plain": [
       "'png'"
      ]
     },
     "execution_count": 52,
     "metadata": {},
     "output_type": "execute_result"
    }
   ],
   "source": [
    "import graphviz\n",
    "from IPython.display import display\n",
    "\n",
    "graphviz.set_jupyter_format('png')"
   ]
  },
  {
   "cell_type": "code",
   "execution_count": 53,
   "id": "f7cc7bec-4ee0-4577-8103-d3e645489c24",
   "metadata": {},
   "outputs": [],
   "source": [
    "dot = graphviz.Digraph(comment='Graph Example')\n",
    "\n",
    "# Set graph attributes for left-to-right orientation\n",
    "dot.attr(rankdir='LR')"
   ]
  },
  {
   "cell_type": "code",
   "execution_count": 54,
   "id": "e283b17d-b905-4e36-9a32-118226f1e5e8",
   "metadata": {},
   "outputs": [],
   "source": [
    "dot.node('a', 'a=2 | grad=2', shape='box')\n",
    "dot.node('b', 'b=3', shape='box')\n",
    "dot.node('X', '+')\n",
    "dot.node('c', 'c=5 | grad=2', shape='box')\n",
    "dot.node('d', 'd=2 | grad=5', shape='box')\n",
    "dot.node('Y', '*')\n",
    "dot.node('L', 'L=10 | grad=1', shape='box')"
   ]
  },
  {
   "cell_type": "code",
   "execution_count": 55,
   "id": "e69f7122-28c7-4494-b3c4-c7e7516babcf",
   "metadata": {},
   "outputs": [],
   "source": [
    "dot.edge('a', 'X')\n",
    "dot.edge('b', 'X')\n",
    "dot.edge('X', 'c')\n",
    "\n",
    "dot.edge('c', 'Y')\n",
    "dot.edge('d', 'Y')\n",
    "dot.edge('Y', 'L')\n"
   ]
  },
  {
   "cell_type": "code",
   "execution_count": 49,
   "id": "c2acdd31-063f-4b91-82d5-a9ec3c9ae0b1",
   "metadata": {},
   "outputs": [
    {
     "data": {
      "image/png": "[encoded data removed]",
      "text/plain": [
       "<graphviz.graphs.Digraph at 0x10729fc50>"
      ]
     },
     "execution_count": 49,
     "metadata": {},
     "output_type": "execute_result"
    }
   ],
   "source": [
    "dot"
   ]
  },
  {
   "cell_type": "markdown",
   "id": "d3c98ffb-17b2-428e-ae46-a80e70120cbc",
   "metadata": {},
   "source": [
    "### Backprogpagation on simple mathematical expression explained"
   ]
  },
  {
   "cell_type": "markdown",
   "id": "516e3050-04d5-4776-8819-402a6eb737e6",
   "metadata": {},
   "source": [
    "Here we can see the forward pass visualized - the mathematical experession with multiple inputs that produce a simple output L with value of 10.\n",
    "\n",
    "To visualize the backpropagation, we start at the end (L) and we going to find gradients one by one on each of the previous inputs. \n",
    "\n",
    "For every value we need to calculate the derivative of the node with respect to L.\n",
    "In our case it means we derive what are the **derivatives of L in respect to**:\n",
    "* L\n",
    "* c\n",
    "* d\n",
    "* a\n",
    "* b\n",
    "\n",
    "Prallelism: In neural networks you are interested in **gradient of L** (loss function) **with respect to all the input parameters (weight and biases)** to find out how the parameters are impacting the loss function."
   ]
  },
  {
   "cell_type": "markdown",
   "id": "b07adf94-8923-4164-b072-f0bbcac5805f",
   "metadata": {},
   "source": [
    "Firstly all the input parameters have gradient set to 0 -> they do not effect the L in any way."
   ]
  },
  {
   "cell_type": "markdown",
   "id": "f889260f-60d3-4905-9814-03a98c1f9672",
   "metadata": {},
   "source": [
    "1. **dL/dL** The derivative of L in repspect to L\n",
    "   * If I change L by a tiny amount of h (h=0.001), how much does L change -> it changes by h, its derivative is 1 -> the change is directly proportional"
   ]
  },
  {
   "cell_type": "markdown",
   "id": "9aeae681-702a-4d0c-8f28-1182a41cb6e1",
   "metadata": {},
   "source": [
    "------------------------------------------------------------------------"
   ]
  },
  {
   "cell_type": "markdown",
   "id": "c7b53413-024c-43e0-97fd-49801883a7e1",
   "metadata": {},
   "source": [
    "2. **dL/dd**: Derivative of **L with respect to d**\n",
    "* how much L changed when param d is changed by a tiny amount and normalize it by h (rise over run)"
   ]
  },
  {
   "cell_type": "code",
   "execution_count": 61,
   "id": "0eb6f893-d22a-4dc0-8f8c-19dc025e5f73",
   "metadata": {
    "scrolled": true
   },
   "outputs": [
    {
     "name": "stdout",
     "output_type": "stream",
     "text": [
      "dL/dd: 0.0\n"
     ]
    }
   ],
   "source": [
    "h=0.001\n",
    "\n",
    "a=2\n",
    "b=3\n",
    "c=a+b\n",
    "\n",
    "d=2\n",
    "L1=c*d\n",
    "\n",
    "a+=h\n",
    "L2=c*d\n",
    "\n",
    "print(\"dL/dd:\", (L2-L1)/h) "
   ]
  },
  {
   "cell_type": "markdown",
   "id": "9ae0a95f-84e5-4670-8f5b-205be8b5e658",
   "metadata": {
    "jupyter": {
     "source_hidden": true
    }
   },
   "source": [
    "Note that the result is 5 and that **c=5** as well:\n",
    "\n",
    "L = **c** * d => L = **5** * 2\n",
    "\n",
    "dL/dd = **c=5** (value of **c**)"
   ]
  },
  {
   "cell_type": "markdown",
   "id": "0fd158c5-9b67-4463-a42b-b9626a64691e",
   "metadata": {},
   "source": [
    "#### Proof that dL/dd = c if L = c * d:\n",
    "\n",
    "$$\n",
    "L = c \\cdot d\n",
    "$$\n",
    "\n",
    "$$\n",
    "\\frac{dL}{dd} = c\n",
    "$$\n",
    "\n",
    "$$\n",
    "\\lim_{h \\to 0} \\frac{f(x+h) - f(x)}{h}, \\quad\n",
    "$$\n",
    "\n",
    "$$\n",
    "L_2 - L_1 = \\frac{(d+h) \\cdot c - d \\cdot c}{h}\n",
    "$$\n",
    "\n",
    "Expanding:\n",
    "\n",
    "$$\n",
    "\\frac{(dc + hc - dc)}{h} = \\frac{hc}{h} = c\n",
    "$$"
   ]
  },
  {
   "cell_type": "markdown",
   "id": "24bfa4c0-2f60-496b-8e40-ea8ad1002c58",
   "metadata": {},
   "source": [
    "We can apply this proof on the next parameter **c** as well: **dL/dc = d**\n",
    "* How L would be changed in respect to c param"
   ]
  },
  {
   "cell_type": "markdown",
   "id": "ccc85424-90d0-42ac-8e18-0727d41b26b0",
   "metadata": {},
   "source": [
    "------------------------------------------------------------------------"
   ]
  },
  {
   "cell_type": "markdown",
   "id": "c27565d9-7e5a-4925-8212-d7a93342d67f",
   "metadata": {},
   "source": [
    "3. **dL/da** The derivative of L in repspect to a and intermediate parameter c\n",
    "\n",
    "* TO KNOW:\n",
    "* --- **How is L sensitive to a** - how does that impact L through **intermediate parameter c**"
   ]
  },
  {
   "cell_type": "markdown",
   "id": "bf7d7adc-6bc4-4b7c-af10-18a62d378141",
   "metadata": {},
   "source": [
    "1. Firstly calculate how is intermediate parameter $c$ affected by $a$ => $\\frac{dc}{da}$\n",
    "\n",
    "KNOW:\n",
    "$$\n",
    "c = a + b\n",
    "$$\n",
    "TO KNOW:\n",
    "$$\n",
    "\\frac{dc}{da} = 1\n",
    "$$\n",
    "\n",
    "DERIVE PROOF:\n",
    "$$\n",
    "\\lim_{h \\to 0} \\frac{f(x+h) - f(x)}{h}\n",
    "$$\n",
    "\n",
    "$$\n",
    "\\frac{(a+h + b) - (a + b)}{h}\n",
    "$$\n",
    "\n",
    "$$\n",
    "\\frac{a+h + b - a - b}{h}\n",
    "$$\n",
    "\n",
    "$$\n",
    "\\frac{h}{h} = 1\n",
    "$$\n",
    "\n"
   ]
  },
  {
   "cell_type": "markdown",
   "id": "8d76d0d1-8110-4e8c-a12a-f3dba01b48c3",
   "metadata": {},
   "source": [
    "------------------------------------------------------------------------\n",
    "To find out how $L$ depends on $a$, we can use **Chain rule** - let's see what we know by far:\n"
   ]
  },
  {
   "cell_type": "markdown",
   "id": "b57d8dd8-80f2-4e3f-9932-11d23a0b369d",
   "metadata": {},
   "source": [
    "2. Apply chain rule\n",
    "\n",
    "KNOW:\n",
    "$$\n",
    "\\frac{dl}{dc} = 2\n",
    "$$\n",
    "$$\n",
    "\\frac{dc}{da} = 1\n",
    "$$\n",
    "\n",
    "TO KNOW:\n",
    "$$\n",
    "\\frac{dl}{da} = ?\n",
    "$$\n"
   ]
  },
  {
   "cell_type": "markdown",
   "id": "b54e2a89-d9a9-4ffa-a001-882e5b173e60",
   "metadata": {},
   "source": [
    "### CHAIN rule in general\n",
    "* The chain rule is like tracking how a small change in one part of the Netflix experience (like the number of shows) leads to changes in other parts of the experience (like browsing time and watching time). It shows how everything is connected and how changes in one area ripple through to the final outcome!\n",
    "* ********\n",
    "* Lets show it on our example:\n",
    "Parameters: \n",
    "* $a$: The number of new shows added to Netflix.\n",
    "* $b$: The number of existing popular shows.\n",
    "* $c$: The total number of shows available (new + popular).\n",
    "* $d$: The average time a user spends watching each show.\n",
    "* $L$: The total time users spend on Netflix (which depends on both the number of shows and the time spent per show).\n",
    "  \n",
    "1. Define $c$ as an **Intermediate Parameter**:\n",
    "* If you increase $a$ - new content added => the total number of shows $c$ will increase\n",
    "  \n",
    "2.  Define the **Total Time Users Spend** ($L$)\n",
    "* The total time users spend on Netflix $L$ depends on both the **number of shows** and the **average time spent per show**: $L=c⋅d$.\n",
    "* if $c$ increases, the $L$ increases as well, assuming $d$ stays the same.\n",
    "  \n",
    "3. Apply the Chain rule to find $\\frac{dl}{da}$\n",
    "* You want to find how **adding new shows** (increasing $a$) will affect **total time** $L$ that users spend on netflix\n",
    "* According to the chain rule, $\\frac{dL}{da}$ can be found by multiplying the rate at which $L$ changes with respect to $c$ by the rate at which $c$ changes with respect to $a$:\n",
    "\n",
    "$$\n",
    "\\frac{dl}{da} = \\frac{dL}{dc} \\cdot \\frac{dc}{da}\n",
    "$$\n",
    "\n",
    "$$\n",
    "\\frac{dl}{da} = 2 \\cdot 1\n",
    "$$\n",
    "\n",
    "$$\n",
    "\\frac{dl}{da} = 2\n",
    "$$"
   ]
  },
  {
   "cell_type": "markdown",
   "id": "0e9ee538-5611-41d9-9028-5c286d142628",
   "metadata": {},
   "source": [
    "------------------------------------------------------------------------"
   ]
  },
  {
   "cell_type": "markdown",
   "id": "76ffe703-1d3d-4fdb-aadc-392f2ed0fbef",
   "metadata": {},
   "source": [
    "4. **dL/db** The derivative of $L$ in repsspect to $b$ and intermediate parameter $c$\n",
    "   * again apply the chain rule through intermediate parameter"
   ]
  },
  {
   "cell_type": "markdown",
   "id": "af0f351d-129d-4c30-b44a-771f978e9746",
   "metadata": {},
   "source": [
    "$$\n",
    "\\frac{dc}{db} = 1\n",
    "$$\n",
    "\n",
    "$$\n",
    "\\frac{dL}{dc} = 2\n",
    "$$\n",
    "\n",
    "$$\n",
    "\\frac{dL}{db} = \\frac{dL}{dc} \\cdot \\frac{dc}{db}\n",
    "$$\n",
    "\n",
    "$$\n",
    "\\frac{dL}{db} = 2 \\cdot 1\n",
    "$$\n",
    "\n",
    "$$\n",
    "\\frac{dL}{db} = 2\n",
    "$$\n"
   ]
  },
  {
   "cell_type": "markdown",
   "id": "3a2d1c78-fb19-430d-9a43-bc82f4722433",
   "metadata": {},
   "source": [
    "Both $\\frac{dL}{da} = 2$ and $\\frac{dL}{db} = 2$ Lets check if it is true in code as well:"
   ]
  },
  {
   "cell_type": "code",
   "execution_count": 63,
   "id": "8e70d8e6-543b-4514-9e7c-05792459855a",
   "metadata": {},
   "outputs": [
    {
     "name": "stdout",
     "output_type": "stream",
     "text": [
      "dL/da: 1.9999999999988916\n"
     ]
    }
   ],
   "source": [
    "h = 0.001\n",
    "\n",
    "a = 2\n",
    "b = 3\n",
    "c = a + b  # c = 5\n",
    "\n",
    "d = 2\n",
    "L1 = c * d  # L1 = 10\n",
    "\n",
    "a += h  # It could be either a or b updated slightly.\n",
    "c = a + b  # Now intermediate parameter c is updated based on the new a\n",
    "\n",
    "L2 = c * d  # L2 should now be slightly different from L1\n",
    "\n",
    "print(\"dL/da:\", (L2 - L1) / h)"
   ]
  },
  {
   "cell_type": "markdown",
   "id": "b4897232-7608-4c7f-af7c-fed35ffbaa72",
   "metadata": {},
   "source": [
    "### Plot ReLU function (Recitified linear unit), activation function in neural networks"
   ]
  },
  {
   "cell_type": "code",
   "execution_count": null,
   "id": "7b5e0184-08ba-41cf-a879-df334c273a31",
   "metadata": {},
   "outputs": [],
   "source": []
  },
  {
   "cell_type": "code",
   "execution_count": null,
   "id": "96eb4778-148f-4692-9e17-16d6c491b81d",
   "metadata": {},
   "outputs": [],
   "source": [
    "import matplotlib.pyplot as plt\n",
    "import numpy as np\n",
    "\n",
    "def relu(x):\n",
    "    return np.maximum(0, x)\n",
    "    \n",
    "x_values = np.linspace(-2, 2, 100) # generates 100 points between -2 and 2 used as x-values\n",
    "y_values =  relu(x_values) # broadcasting used\n",
    "\n",
    "# Plot the ReLU function\n",
    "plt.plot(x_values, y_values)\n",
    "plt.title(\"ReLU\")\n",
    "plt.xlabel(\"x\")\n",
    "plt.ylabel(\"ReLU(x)\")\n",
    "plt.grid(True)\n",
    "plt.axhline(0, color='black', linewidth=0.5) # adds horizontal line at x=0\n",
    "plt.axvline(0, color='black', linewidth=0.5)  # adds vertical line at y=0\n",
    "plt.show()\n"
   ]
  },
  {
   "cell_type": "code",
   "execution_count": null,
   "id": "1df2c87c-bec7-47ec-8d4f-37d980f4bef1",
   "metadata": {},
   "outputs": [],
   "source": []
  }
 ],
 "metadata": {
  "kernelspec": {
   "display_name": "Python 3 (ipykernel)",
   "language": "python",
   "name": "python3"
  },
  "language_info": {
   "codemirror_mode": {
    "name": "ipython",
    "version": 3
   },
   "file_extension": ".py",
   "mimetype": "text/x-python",
   "name": "python",
   "nbconvert_exporter": "python",
   "pygments_lexer": "ipython3",
   "version": "3.12.2"
  }
 },
 "nbformat": 4,
 "nbformat_minor": 5
}
